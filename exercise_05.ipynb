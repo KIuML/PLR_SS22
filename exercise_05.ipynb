{
 "cells": [
  {
   "cell_type": "markdown",
   "metadata": {},
   "source": [
    "# Collaborative Filtering on the MovieLens-100k Dataset"
   ]
  },
  {
   "cell_type": "code",
   "execution_count": null,
   "metadata": {},
   "outputs": [],
   "source": [
    "%pip install scikit-learn==1.0.2\n",
    "%pip install scikit-surprise==1.1.1"
   ]
  },
  {
   "cell_type": "markdown",
   "metadata": {},
   "source": [
    "## Loading the Dataset"
   ]
  },
  {
   "cell_type": "code",
   "execution_count": 35,
   "metadata": {},
   "outputs": [
    {
     "name": "stdout",
     "output_type": "stream",
     "text": [
      "Dataset already downloaded.\n"
     ]
    }
   ],
   "source": [
    "import os\n",
    "import io\n",
    "from pathlib import Path\n",
    "import zipfile\n",
    "import requests\n",
    "\n",
    "cache_dir = Path(\".cache\")\n",
    "ds_dir = cache_dir / \"ml-100k\"\n",
    "if not cache_dir.exists():\n",
    "  os.makedirs(cache_dir)\n",
    "if not ds_dir.exists():\n",
    "  print(\"Downloading MovieLens-100k dataset...\")\n",
    "  ds_res = requests.get(\"https://files.grouplens.org/datasets/movielens/ml-100k.zip\")\n",
    "  ds_stream = io.BytesIO(ds_res.content)\n",
    "  with zipfile.ZipFile(ds_stream) as z:\n",
    "    for fname in z.namelist():\n",
    "      z.extract(fname, cache_dir)\n",
    "  print(\"Downloaded dataset.\")\n",
    "else:\n",
    "  print(\"Dataset already downloaded.\")"
   ]
  },
  {
   "cell_type": "code",
   "execution_count": 36,
   "metadata": {},
   "outputs": [],
   "source": [
    "from surprise import Dataset\n",
    "from surprise import Reader\n",
    "import surprise.model_selection.split as ms\n",
    "\n",
    "# Load the Movielens-100k dataset\n",
    "reader = Reader(line_format='user item rating timestamp',\n",
    "                rating_scale=(1, 5),\n",
    "                sep='\\t')\n",
    "fold_files = [(ds_dir / f\"u{i}.base\", ds_dir / f\"u{i}.test\") for i in range(1, 6)]\n",
    "movielens = Dataset.load_from_folds(fold_files, reader=reader)"
   ]
  },
  {
   "cell_type": "code",
   "execution_count": 84,
   "metadata": {},
   "outputs": [],
   "source": [
    "import numpy as np\n",
    "from surprise.model_selection import cross_validate, GridSearchCV\n",
    "\n",
    "def evaluate_model(model_ctr, name=None):\n",
    "  if name is None:\n",
    "    name = getattr(model_ctr, \"name\", model_ctr.__name__) \n",
    "  print(f\"Evaluating {name}...\")\n",
    "  res = cross_validate(\n",
    "    model_ctr(), movielens,\n",
    "    [\"rmse\", \"mae\"],\n",
    "    ms.PredefinedKFold(),\n",
    "    n_jobs=-1)\n",
    "  \n",
    "  rmse = np.mean(res[\"test_rmse\"])\n",
    "  mae = np.mean(res[\"test_mae\"])\n",
    "  rmse_std = np.std(res[\"test_rmse\"])\n",
    "  mae_std = np.std(res[\"test_mae\"])\n",
    "  print(f\"Completed evaluation of {name}.\")\n",
    "  return rmse, rmse_std, mae, mae_std, np.sum(res[\"fit_time\"] + res[\"test_time\"])\n",
    "\n",
    "\n",
    "def tune_model(model_ctr, grid, name=None):\n",
    "  if name is None:\n",
    "    name = getattr(model_ctr, \"name\", model_ctr.__name__)\n",
    "  \n",
    "  print(f\"Tuning hyperparameters for {name}...\")\n",
    "  gs = GridSearchCV(\n",
    "    model_ctr, grid, \n",
    "    [\"rmse\", \"mae\"], \n",
    "    ms.PredefinedKFold(),\n",
    "    n_jobs=-1)\n",
    "  gs.fit(movielens)\n",
    "  \n",
    "  best_rmse_params = gs.best_params[\"rmse\"]\n",
    "  best_mae_params = gs.best_params[\"mae\"]\n",
    "  best_rmse = gs.best_score[\"rmse\"]\n",
    "  best_mae = gs.best_score[\"mae\"]\n",
    "  print(f\"Completed tuning hyperparameters of {name}.\")\n",
    "  return best_rmse, best_mae, best_rmse_params, best_mae_params\n",
    "\n",
    "\n",
    "cos_model = lambda **kwargs: KNNBasic(sim_options=dict(name=\"cosine\"), **kwargs)\n",
    "pearson_model = lambda **kwargs: KNNWithMeans(sim_options=dict(name=\"pearson\"), **kwargs)\n",
    "mf_model = lambda **kwargs: SVD(biased=False, **kwargs)"
   ]
  },
  {
   "cell_type": "markdown",
   "metadata": {},
   "source": [
    "## Evaluation with the Default Parameters"
   ]
  },
  {
   "cell_type": "code",
   "execution_count": 85,
   "metadata": {},
   "outputs": [
    {
     "name": "stdout",
     "output_type": "stream",
     "text": [
      "Evaluating Memory-based Cosine...\n",
      "Completed evaluation of Memory-based Cosine.\n",
      "Evaluating Memory-based Correlation...\n",
      "Completed evaluation of Memory-based Correlation.\n",
      "Evaluating Regularised Matrix Factorisation...\n",
      "Completed evaluation of Regularised Matrix Factorisation.\n"
     ]
    },
    {
     "data": {
      "text/html": [
       "<div>\n",
       "<style scoped>\n",
       "    .dataframe tbody tr th:only-of-type {\n",
       "        vertical-align: middle;\n",
       "    }\n",
       "\n",
       "    .dataframe tbody tr th {\n",
       "        vertical-align: top;\n",
       "    }\n",
       "\n",
       "    .dataframe thead th {\n",
       "        text-align: right;\n",
       "    }\n",
       "</style>\n",
       "<table border=\"1\" class=\"dataframe\">\n",
       "  <thead>\n",
       "    <tr style=\"text-align: right;\">\n",
       "      <th></th>\n",
       "      <th>name</th>\n",
       "      <th>rmse</th>\n",
       "      <th>rmseStd</th>\n",
       "      <th>mae</th>\n",
       "      <th>maeStd</th>\n",
       "      <th>time</th>\n",
       "    </tr>\n",
       "  </thead>\n",
       "  <tbody>\n",
       "    <tr>\n",
       "      <th>0</th>\n",
       "      <td>Memory-based Cosine</td>\n",
       "      <td>1.017409</td>\n",
       "      <td>0.004632</td>\n",
       "      <td>0.805276</td>\n",
       "      <td>0.004316</td>\n",
       "      <td>11.809762</td>\n",
       "    </tr>\n",
       "    <tr>\n",
       "      <th>1</th>\n",
       "      <td>Memory-based Correlation</td>\n",
       "      <td>0.952484</td>\n",
       "      <td>0.007001</td>\n",
       "      <td>0.745971</td>\n",
       "      <td>0.004676</td>\n",
       "      <td>14.873700</td>\n",
       "    </tr>\n",
       "    <tr>\n",
       "      <th>2</th>\n",
       "      <td>Regularised Matrix Factorisation</td>\n",
       "      <td>0.951939</td>\n",
       "      <td>0.007064</td>\n",
       "      <td>0.750433</td>\n",
       "      <td>0.005540</td>\n",
       "      <td>14.584713</td>\n",
       "    </tr>\n",
       "  </tbody>\n",
       "</table>\n",
       "</div>"
      ],
      "text/plain": [
       "                               name      rmse   rmseStd       mae    maeStd  \\\n",
       "0               Memory-based Cosine  1.017409  0.004632  0.805276  0.004316   \n",
       "1          Memory-based Correlation  0.952484  0.007001  0.745971  0.004676   \n",
       "2  Regularised Matrix Factorisation  0.951939  0.007064  0.750433  0.005540   \n",
       "\n",
       "        time  \n",
       "0  11.809762  \n",
       "1  14.873700  \n",
       "2  14.584713  "
      ]
     },
     "execution_count": 85,
     "metadata": {},
     "output_type": "execute_result"
    }
   ],
   "source": [
    "import pandas as pd\n",
    "from surprise import KNNBasic, KNNWithMeans, SVD\n",
    "cos_res = evaluate_model(cos_model, \"Memory-based Cosine\")\n",
    "corr_res = evaluate_model(pearson_model, \"Memory-based Correlation\")\n",
    "mf_res = evaluate_model(mf_model, \"Regularised Matrix Factorisation\")\n",
    "\n",
    "results = pd.DataFrame(\n",
    "  data=[\n",
    "    [\"Memory-based Cosine\", *cos_res], \n",
    "    [\"Memory-based Correlation\", *corr_res],\n",
    "    [\"Regularised Matrix Factorisation\", *mf_res]],\n",
    "  columns=[\"name\", \"rmse\", \"rmseStd\", \"mae\", \"maeStd\", \"time\"])\n",
    "results"
   ]
  },
  {
   "cell_type": "markdown",
   "metadata": {},
   "source": [
    "## Hyperparameter Tuning"
   ]
  },
  {
   "cell_type": "code",
   "execution_count": 91,
   "metadata": {},
   "outputs": [
    {
     "name": "stdout",
     "output_type": "stream",
     "text": [
      "Tuning hyperparameters for Memory-based Cosine...\n",
      "Completed tuning hyperparameters of Memory-based Cosine.\n"
     ]
    }
   ],
   "source": [
    "cos_res_cv = tune_model(cos_model, {\n",
    "  \"k\": [10, 20, 40, 80, 160],\n",
    "  \"min_k\": [1, 5, 10]\n",
    "}, \"Memory-based Cosine\")"
   ]
  },
  {
   "cell_type": "code",
   "execution_count": 90,
   "metadata": {},
   "outputs": [
    {
     "name": "stdout",
     "output_type": "stream",
     "text": [
      "Tuning hyperparameters for Memory-based Correlation...\n",
      "Completed tuning hyperparameters of Memory-based Correlation.\n"
     ]
    }
   ],
   "source": [
    "corr_res_cv = tune_model(pearson_model, {\n",
    "  \"k\": [10, 20, 40, 80, 160],\n",
    "  \"min_k\": [1, 5, 10]\n",
    "}, \"Memory-based Correlation\")"
   ]
  },
  {
   "cell_type": "code",
   "execution_count": 96,
   "metadata": {},
   "outputs": [
    {
     "name": "stdout",
     "output_type": "stream",
     "text": [
      "Tuning hyperparameters for Regularised Matrix Factorisation...\n",
      "Completed tuning hyperparameters of Regularised Matrix Factorisation.\n"
     ]
    }
   ],
   "source": [
    "mf_res_cv = tune_model(mf_model, {\n",
    "  \"n_factors\": [25, 50, 100],\n",
    "  \"n_epochs\": [10, 20, 30],\n",
    "  \"lr_all\": [0.01, 0.005, 0.001],\n",
    "  \"reg_all\": [0.02, 0.04, 0.1]\n",
    "}, \"Regularised Matrix Factorisation\")"
   ]
  },
  {
   "cell_type": "code",
   "execution_count": 103,
   "metadata": {},
   "outputs": [
    {
     "data": {
      "text/html": [
       "<div>\n",
       "<style scoped>\n",
       "    .dataframe tbody tr th:only-of-type {\n",
       "        vertical-align: middle;\n",
       "    }\n",
       "\n",
       "    .dataframe tbody tr th {\n",
       "        vertical-align: top;\n",
       "    }\n",
       "\n",
       "    .dataframe thead th {\n",
       "        text-align: right;\n",
       "    }\n",
       "</style>\n",
       "<table border=\"1\" class=\"dataframe\">\n",
       "  <thead>\n",
       "    <tr style=\"text-align: right;\">\n",
       "      <th></th>\n",
       "      <th>name</th>\n",
       "      <th>rmse</th>\n",
       "      <th>rmseStd</th>\n",
       "      <th>mae</th>\n",
       "      <th>maeStd</th>\n",
       "      <th>time</th>\n",
       "      <th>tunedRmse</th>\n",
       "      <th>tunedMae</th>\n",
       "    </tr>\n",
       "  </thead>\n",
       "  <tbody>\n",
       "    <tr>\n",
       "      <th>0</th>\n",
       "      <td>Memory-based Cosine</td>\n",
       "      <td>1.017409</td>\n",
       "      <td>0.004632</td>\n",
       "      <td>0.805276</td>\n",
       "      <td>0.004316</td>\n",
       "      <td>11.809762</td>\n",
       "      <td>1.016982</td>\n",
       "      <td>0.805276</td>\n",
       "    </tr>\n",
       "    <tr>\n",
       "      <th>1</th>\n",
       "      <td>Memory-based Correlation</td>\n",
       "      <td>0.952484</td>\n",
       "      <td>0.007001</td>\n",
       "      <td>0.745971</td>\n",
       "      <td>0.004676</td>\n",
       "      <td>14.873700</td>\n",
       "      <td>0.950421</td>\n",
       "      <td>0.744583</td>\n",
       "    </tr>\n",
       "    <tr>\n",
       "      <th>2</th>\n",
       "      <td>Regularised Matrix Factorisation</td>\n",
       "      <td>0.951939</td>\n",
       "      <td>0.007064</td>\n",
       "      <td>0.750433</td>\n",
       "      <td>0.005540</td>\n",
       "      <td>14.584713</td>\n",
       "      <td>0.929612</td>\n",
       "      <td>0.731663</td>\n",
       "    </tr>\n",
       "  </tbody>\n",
       "</table>\n",
       "</div>"
      ],
      "text/plain": [
       "                               name      rmse   rmseStd       mae    maeStd  \\\n",
       "0               Memory-based Cosine  1.017409  0.004632  0.805276  0.004316   \n",
       "1          Memory-based Correlation  0.952484  0.007001  0.745971  0.004676   \n",
       "2  Regularised Matrix Factorisation  0.951939  0.007064  0.750433  0.005540   \n",
       "\n",
       "        time  tunedRmse  tunedMae  \n",
       "0  11.809762   1.016982  0.805276  \n",
       "1  14.873700   0.950421  0.744583  \n",
       "2  14.584713   0.929612  0.731663  "
      ]
     },
     "execution_count": 103,
     "metadata": {},
     "output_type": "execute_result"
    }
   ],
   "source": [
    "results_cv = pd.DataFrame(\n",
    "  data=[\n",
    "    [\"Memory-based Cosine\", *cos_res, *cos_res_cv[:2]], \n",
    "    [\"Memory-based Correlation\", *corr_res, *corr_res_cv[:2]],\n",
    "    [\"Regularised Matrix Factorisation\", *mf_res, *mf_res_cv[:2]]],\n",
    "  columns=[\"name\", \"rmse\", \"rmseStd\", \"mae\", \"maeStd\", \"time\", \"tunedRmse\", \"tunedMae\"])\n",
    "results_cv.to_csv(\"exercise05.csv\",index=False)\n",
    "results_cv"
   ]
  },
  {
   "cell_type": "code",
   "execution_count": 101,
   "metadata": {},
   "outputs": [
    {
     "name": "stdout",
     "output_type": "stream",
     "text": [
      "Memory-based Cosine Best Params (RMSE/MSE): ({'k': 80, 'min_k': 1}, {'k': 40, 'min_k': 1})\n",
      "Memory-based Correlation Best Params (RMSE/MSE): ({'k': 80, 'min_k': 5}, {'k': 80, 'min_k': 1})\n",
      "Regularised Matrix Factorisation Best Params (RMSE/MSE): ({'n_factors': 25, 'n_epochs': 30, 'lr_all': 0.005, 'reg_all': 0.04}, {'n_factors': 25, 'n_epochs': 30, 'lr_all': 0.005, 'reg_all': 0.04})\n"
     ]
    }
   ],
   "source": [
    "print(f\"Memory-based Cosine Best Params (RMSE/MSE): {cos_res_cv[2:]}\")\n",
    "print(f\"Memory-based Correlation Best Params (RMSE/MSE): {corr_res_cv[2:]}\")\n",
    "print(f\"Regularised Matrix Factorisation Best Params (RMSE/MSE): {mf_res_cv[2:]}\")"
   ]
  }
 ],
 "metadata": {
  "kernelspec": {
   "display_name": "Python 3.10.4 64-bit",
   "language": "python",
   "name": "python3"
  },
  "language_info": {
   "codemirror_mode": {
    "name": "ipython",
    "version": 3
   },
   "file_extension": ".py",
   "mimetype": "text/x-python",
   "name": "python",
   "nbconvert_exporter": "python",
   "pygments_lexer": "ipython3",
   "version": "3.10.4"
  },
  "orig_nbformat": 4,
  "vscode": {
   "interpreter": {
    "hash": "aca2a733a2af1563b00c07cd1c761689cce58e2495168a5af8813550b79b034f"
   }
  }
 },
 "nbformat": 4,
 "nbformat_minor": 2
}
