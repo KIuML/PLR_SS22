{
 "cells": [
  {
   "cell_type": "markdown",
   "metadata": {},
   "source": [
    "# Comparison of Point-wise and Pair-wise Object Ranking on the MNIST Dataset"
   ]
  },
  {
   "cell_type": "code",
   "execution_count": null,
   "metadata": {},
   "outputs": [],
   "source": [
    "%pip install numpy scipy tensorflow keras tensorflow_datasets funcy matplotlib\n",
    "import os\n",
    "import numpy as np\n",
    "import scipy.sparse as sp\n",
    "import scipy.stats as ss\n",
    "import funcy as fy\n",
    "import functools\n",
    "import tensorflow as tf\n",
    "import keras\n",
    "import tensorflow_datasets as tfds\n",
    "import matplotlib.pyplot as plt\n",
    "\n",
    "os.environ['TF_FORCE_GPU_ALLOW_GROWTH'] = 'true'"
   ]
  },
  {
   "cell_type": "markdown",
   "metadata": {},
   "source": [
    "## Load and Prepare Data"
   ]
  },
  {
   "cell_type": "code",
   "execution_count": null,
   "metadata": {},
   "outputs": [],
   "source": [
    "(ds_train, ds_test), info = tfds.load(\n",
    "  \"mnist\", \n",
    "  split=[\"train\", \"test\"], shuffle_files=True, data_dir=\".cache/mnist\", \n",
    "  as_supervised=True, with_info=True)\n",
    "\n",
    "def normalize_instance(image, label):\n",
    "  return tf.cast(image, tf.float32) / 255., label\n",
    "\n",
    "ds_train = ds_train.map(normalize_instance).cache()\n",
    "ds_test = ds_test.map(normalize_instance).cache()"
   ]
  },
  {
   "cell_type": "code",
   "execution_count": 3,
   "metadata": {},
   "outputs": [],
   "source": [
    "def partition_dataset(ds, size, seed=42):\n",
    "  X, y = fy.first(ds.batch(size))\n",
    "  X = X.numpy()\n",
    "  y = y.numpy()\n",
    "  # Compute the indices of all 0-, 1-, ..., 9-digit images:\n",
    "  r = np.arange(size)\n",
    "  S = sp.csr_matrix((r, [y, r]), shape=(10, size))\n",
    "  parts = np.split(S.data, S.indptr[1:-1])\n",
    "  # Shuffle the indices in each digit bin:\n",
    "  rnd = np.random.default_rng(seed)\n",
    "  for part in parts:\n",
    "    rnd.shuffle(part)\n",
    "  # Consecutively take one index from each digit bin to build 10-element partitions:\n",
    "  # (leftover digits from the bins larger than the smallest one will be ignored)\n",
    "  random_partitions = np.array(list(p for p in zip(*parts)), dtype=np.int32)\n",
    "  return random_partitions\n",
    "  \n",
    "test_partitions = partition_dataset(ds_test, info.splits[\"test\"].num_examples)\n",
    "  "
   ]
  },
  {
   "cell_type": "code",
   "execution_count": 4,
   "metadata": {},
   "outputs": [],
   "source": [
    "def kendalls_tau(pred_utils, test_partitions):\n",
    "  partition_preds = pred_utils[test_partitions]\n",
    "  partition_rank_preds = ss.rankdata(partition_preds, method=\"ordinal\", axis=-1)\n",
    "  r = np.arange(1,11)\n",
    "  taus = np.array([ss.kendalltau(ranking, r)[0] for ranking in partition_rank_preds])\n",
    "  return taus.mean()\n",
    "\n",
    "def tau_to_dist(tau, K=10):\n",
    "  return (1 - tau) * K * (K-1) / 4\n",
    "\n",
    "def plot_training_histories(*histories):\n",
    "  fig, ax = plt.subplots()\n",
    "  loss = np.mean([h.history[\"loss\"] for h in histories], axis=0)\n",
    "  val_loss = np.mean([h.history[\"val_loss\"] for h in histories], axis=0)\n",
    "  ax.plot(loss, label=\"Train\")\n",
    "  ax.plot(val_loss, label=\"Test\")\n",
    "  ax.set_ylabel(\"loss\")\n",
    "  ax.set_xlabel(\"epoch\")\n",
    "  ax.legend()\n",
    "  plt.show()"
   ]
  },
  {
   "cell_type": "markdown",
   "metadata": {},
   "source": [
    "## Point-wise Model"
   ]
  },
  {
   "cell_type": "code",
   "execution_count": 5,
   "metadata": {},
   "outputs": [],
   "source": [
    "ds_train_pointwise = ds_train \\\n",
    "  .shuffle(info.splits[\"train\"].num_examples) \\\n",
    "  .batch(6000) \\\n",
    "  .prefetch(tf.data.AUTOTUNE)\n",
    "ds_test_pointwise = ds_test.batch(10000).prefetch(tf.data.AUTOTUNE)"
   ]
  },
  {
   "cell_type": "code",
   "execution_count": null,
   "metadata": {},
   "outputs": [],
   "source": [
    "def createPointwiseModel():\n",
    "  model = keras.models.Sequential([\n",
    "    keras.layers.Flatten(input_shape=(28,28)),\n",
    "    keras.layers.Dense(128, activation=\"relu\"),\n",
    "    keras.layers.Dense(128, activation=\"relu\"),\n",
    "    keras.layers.Dense(128, activation=\"relu\"),\n",
    "    keras.layers.Dense(128, activation=\"relu\"),\n",
    "    keras.layers.Dense(1, activation=\"relu\"),\n",
    "  ])\n",
    "  model.compile(\n",
    "    optimizer=keras.optimizers.Adam(0.001),\n",
    "    loss=keras.losses.MeanSquaredError(),\n",
    "    metrics=[keras.metrics.MAE]\n",
    "  )\n",
    "  \n",
    "  return model\n",
    "\n",
    "mlps = []\n",
    "hs = []\n",
    "for i in range(3):\n",
    "  print(f\"Training repeat {i+1}/3...\")\n",
    "  mlp = createPointwiseModel()\n",
    "  h = mlp.fit(ds_train_pointwise, validation_data=ds_test_pointwise, epochs=200, verbose=2)\n",
    "  mlps.append(mlp)\n",
    "  hs.append(h)"
   ]
  },
  {
   "cell_type": "code",
   "execution_count": 7,
   "metadata": {},
   "outputs": [
    {
     "data": {
      "image/png": "[encoded data removed]",
      "text/plain": [
       "<Figure size 432x288 with 1 Axes>"
      ]
     },
     "metadata": {
      "needs_background": "light"
     },
     "output_type": "display_data"
    },
    {
     "name": "stdout",
     "output_type": "stream",
     "text": [
      "1/1 [==============================] - 0s 95ms/step\n",
      "1/1 [==============================] - 0s 63ms/step\n",
      "1/1 [==============================] - 0s 63ms/step\n",
      "Mean Kendall's tau of point-wise MLP regressor: 0.9427171566185019\n",
      "Mean Kendall distance of point-wise MLP regressor: 1.2888639760837073\n"
     ]
    }
   ],
   "source": [
    "plot_training_histories(*hs)\n",
    "\n",
    "tau_pointwise = 0\n",
    "dist_pointwise = 0\n",
    "for mlp in mlps:\n",
    "  pred_utils = mlp.predict(ds_test_pointwise).reshape(-1)\n",
    "  tau = kendalls_tau(pred_utils, test_partitions)\n",
    "  tau_pointwise += tau\n",
    "  dist_pointwise += tau_to_dist(tau)\n",
    "print(f\"Mean Kendall's tau of point-wise MLP regressor: {tau_pointwise/3}\")\n",
    "print(f\"Mean Kendall distance of point-wise MLP regressor: {dist_pointwise/3}\")"
   ]
  },
  {
   "cell_type": "markdown",
   "metadata": {},
   "source": [
    "## Pair-wise Model"
   ]
  },
  {
   "cell_type": "code",
   "execution_count": 8,
   "metadata": {},
   "outputs": [],
   "source": [
    "def sample_preference_pairs(y: np.array, radius=4, sampling_ratio=100, seed=42):\n",
    "  size = len(y)\n",
    "  sample_size = size * radius * sampling_ratio\n",
    "  r = np.arange(len(y))\n",
    "  S = sp.csr_matrix((r, [y, r]), shape=(10, size))\n",
    "  parts = np.split(S.data, S.indptr[1:-1])\n",
    "  rnd = np.random.default_rng(seed)\n",
    "  for part in parts:\n",
    "    rnd.shuffle(part)\n",
    "  idx_a = np.empty((sample_size,), dtype=np.int32)\n",
    "  idx_b = np.empty((sample_size,), dtype=np.int32)\n",
    "  target = np.ones((sample_size,), dtype=np.float32)\n",
    "  k = 0\n",
    "  for i in range(10):\n",
    "    part = parts[i]\n",
    "    psize = len(part)\n",
    "    for d in range(radius):\n",
    "      ni = (i+d+1) % 10\n",
    "      npart = parts[ni]\n",
    "      npsize = len(npart)\n",
    "      for j in range(sampling_ratio):\n",
    "        npart_offset = np.roll(npart, d * sampling_ratio + j)\n",
    "        idx_a[k:k+psize] = part\n",
    "        if npsize < psize:\n",
    "          idx_b[k:k+npsize] = npart_offset\n",
    "          idx_b[k+npsize:k+psize] = npart_offset[:psize-npsize]\n",
    "        else:\n",
    "          idx_b[k:k+psize] = npart_offset[:psize]\n",
    "        if ni < i:\n",
    "          target[k:k+psize] = 0\n",
    "        k += psize\n",
    "  return idx_a, idx_b, target\n",
    "\n",
    "def to_pairwise_dataset(ds, size, **kwargs):\n",
    "  X_train, y_train = fy.first(ds_train.batch(size))\n",
    "  X_train = X_train.numpy()\n",
    "  y_train = y_train.numpy()\n",
    "  idx_a, idx_b, target = sample_preference_pairs(y_train, **kwargs)\n",
    "  return tf.data.Dataset.from_tensors(((X_train, idx_a, idx_b), target))\n",
    "\n",
    "ds_train_pairwise = to_pairwise_dataset(ds_train, info.splits[\"train\"].num_examples)\n",
    "ds_test_pairwise = to_pairwise_dataset(ds_test, info.splits[\"test\"].num_examples, radius=1, sampling_ratio=1)"
   ]
  },
  {
   "cell_type": "code",
   "execution_count": null,
   "metadata": {},
   "outputs": [],
   "source": [
    "def pref_lookup(X, pref_a, pref_b):\n",
    "  X_a = tf.gather(X, pref_a, axis=0)\n",
    "  X_b = tf.gather(X, pref_b, axis=0)\n",
    "  return X_a, X_b\n",
    "\n",
    "def createPairwiseModel():\n",
    "  X_input = keras.Input(shape=(28,28), dtype=tf.float32)\n",
    "  pref_a = keras.Input(shape=(), dtype=tf.int32)\n",
    "  pref_b = keras.Input(shape=(), dtype=tf.int32)\n",
    "  X = keras.layers.Flatten(input_shape=(28,28))(X_input)\n",
    "  \n",
    "  for _ in range(4):\n",
    "    X = keras.layers.Dense(128, activation=\"relu\")(X)\n",
    "\n",
    "  X_utils = keras.layers.Dense(1, activation=\"relu\")(X)\n",
    "  X_a, X_b = pref_lookup(X_utils, pref_a, pref_b)\n",
    "  out = X_b - X_a\n",
    "\n",
    "  m = keras.Model(\n",
    "    inputs=(X_input, pref_a, pref_b), outputs=out,\n",
    "    name=\"RankNet\")\n",
    "  m_infer = keras.Model(\n",
    "    inputs=X_input, outputs=X_utils,\n",
    "    name=\"RankNet_predictor\")\n",
    "\n",
    "  m.compile(\n",
    "    optimizer=keras.optimizers.Adam(0.001),\n",
    "    loss=keras.losses.BinaryCrossentropy(from_logits=True),\n",
    "    metrics=[keras.metrics.BinaryAccuracy(threshold=.0)])\n",
    "\n",
    "  return m, m_infer\n",
    "\n",
    "rns = []\n",
    "hs = []\n",
    "for i in range(3):\n",
    "  print(f\"Training repeat {i+1}/3...\")\n",
    "  rn, rn_inf = createPairwiseModel()\n",
    "  h = rn.fit(ds_train_pairwise, validation_data=ds_test_pairwise, epochs=500, verbose=2)\n",
    "  rns.append(rn_inf)\n",
    "  hs.append(h)"
   ]
  },
  {
   "cell_type": "code",
   "execution_count": 12,
   "metadata": {},
   "outputs": [
    {
     "data": {
      "image/png": "[encoded data removed]",
      "text/plain": [
       "<Figure size 432x288 with 1 Axes>"
      ]
     },
     "metadata": {
      "needs_background": "light"
     },
     "output_type": "display_data"
    },
    {
     "name": "stdout",
     "output_type": "stream",
     "text": [
      "1/1 [==============================] - 0s 35ms/step\n",
      "1/1 [==============================] - 0s 33ms/step\n",
      "1/1 [==============================] - 0s 26ms/step\n",
      "Mean Kendall's tau of pair-wise RankNet model: 0.939578143165587\n",
      "Mean Kendall distance of pair-wise RankNet model: 1.3594917787742917\n"
     ]
    }
   ],
   "source": [
    "plot_training_histories(*hs)\n",
    "\n",
    "tau_pairwise = 0\n",
    "dist_pairwise = 0\n",
    "for rn in rns:\n",
    "  pred_utils = rn.predict(ds_test_pointwise).reshape(-1)\n",
    "  tau = kendalls_tau(pred_utils, test_partitions)\n",
    "  tau_pairwise += tau\n",
    "  dist_pairwise += tau_to_dist(tau)\n",
    "print(f\"Mean Kendall's tau of pair-wise RankNet model: {tau_pairwise/3}\")\n",
    "print(f\"Mean Kendall distance of pair-wise RankNet model: {dist_pairwise/3}\")"
   ]
  },
  {
   "cell_type": "code",
   "execution_count": 13,
   "metadata": {},
   "outputs": [],
   "source": [
    "import pandas as pd\n",
    "\n",
    "pd.DataFrame([\n",
    "  [\"Point-wise MLP\", dist_pointwise/3, tau_pointwise/3],\n",
    "  [\"Pair-wise RankNet\", dist_pairwise/3, tau_pairwise/3]\n",
    "], columns=[\"model\", \"dist\", \"tau\"]).to_csv(\"exercise07.csv\", index=False)"
   ]
  }
 ],
 "metadata": {
  "kernelspec": {
   "display_name": "Python 3.10.4 64-bit",
   "language": "python",
   "name": "python3"
  },
  "language_info": {
   "codemirror_mode": {
    "name": "ipython",
    "version": 3
   },
   "file_extension": ".py",
   "mimetype": "text/x-python",
   "name": "python",
   "nbconvert_exporter": "python",
   "pygments_lexer": "ipython3",
   "version": "3.10.4"
  },
  "orig_nbformat": 4,
  "vscode": {
   "interpreter": {
    "hash": "31f2aee4e71d21fbe5cf8b01ff0e069b9275f58929596ceb00d14d90e3e16cd6"
   }
  }
 },
 "nbformat": 4,
 "nbformat_minor": 2
}
